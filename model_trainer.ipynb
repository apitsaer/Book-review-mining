{
 "cells": [
  {
   "cell_type": "code",
   "execution_count": 1,
   "metadata": {},
   "outputs": [],
   "source": [
    "from threading import Thread\n",
    "\n",
    "class StreamingThread(Thread):\n",
    "    def __init__(self, ssc):\n",
    "        Thread.__init__(self)\n",
    "        self.ssc = ssc\n",
    "    def run(self):\n",
    "        ssc.start()\n",
    "        ssc.awaitTermination()\n",
    "    def stop(self):\n",
    "        print('----- Stopping... this may take a few seconds -----')\n",
    "        self.ssc.stop(stopSparkContext=False, stopGraceFully=True)"
   ]
  },
  {
   "cell_type": "code",
   "execution_count": 2,
   "metadata": {},
   "outputs": [
    {
     "data": {
      "text/html": [
       "\n",
       "        <div>\n",
       "            <p><b>SparkContext</b></p>\n",
       "\n",
       "            <p><a href=\"http://admins-air.lan:4041\">Spark UI</a></p>\n",
       "\n",
       "            <dl>\n",
       "              <dt>Version</dt>\n",
       "                <dd><code>v2.4.0</code></dd>\n",
       "              <dt>Master</dt>\n",
       "                <dd><code>local[*]</code></dd>\n",
       "              <dt>AppName</dt>\n",
       "                <dd><code>PySparkShell</code></dd>\n",
       "            </dl>\n",
       "        </div>\n",
       "        "
      ],
      "text/plain": [
       "<SparkContext master=local[*] appName=PySparkShell>"
      ]
     },
     "execution_count": 2,
     "metadata": {},
     "output_type": "execute_result"
    }
   ],
   "source": [
    "sc"
   ]
  },
  {
   "cell_type": "code",
   "execution_count": 3,
   "metadata": {},
   "outputs": [],
   "source": [
    "# Remarks / TO DO\n",
    "# 1. unbalance class distribution ==> try up / down-sampling (but I heard from another student it did not improve)\n",
    "# try SMOTE\n",
    "# 2. add to pre-processing stemming\n",
    "# 3. also try Naive Bayes and SVM (on top of log regr). See https://towardsdatascience.com/multi-class-text-classification-with-pyspark-7d78d022ed35\n",
    "# see also: http://classes.ischool.syr.edu/ist718/content/unit09/lab-sentiment_analysis/\n",
    "# 4. Try ensemlble of different methods\n",
    "# 5. Try external library for sentiment analysis (sentimnetvader / but I heard from another student it did not help)\n",
    "# 6. VERY IMPORTANT: I think we should rather reduce the number of categories from 5 to let's say 3\n",
    "# the 3 categories would be bad (0 and 1 star), middle (3 star), good (4 and 5 stars)\n",
    "# this would allow to have more training instance per categories and anyway how can even a human differentiate a 1 from a 2 stars or a 4 from a 5 stars"
   ]
  },
  {
   "cell_type": "code",
   "execution_count": 4,
   "metadata": {},
   "outputs": [
    {
     "name": "stdout",
     "output_type": "stream",
     "text": [
      "root\n",
      " |-- book_id: string (nullable = true)\n",
      " |-- book_title: string (nullable = true)\n",
      " |-- review_id: string (nullable = true)\n",
      " |-- review_score: string (nullable = true)\n",
      " |-- review_text: string (nullable = true)\n",
      " |-- review_title: string (nullable = true)\n",
      " |-- review_user: string (nullable = true)\n",
      " |-- timestamp: long (nullable = true)\n",
      " |-- review_concat: string (nullable = true)\n",
      "\n"
     ]
    }
   ],
   "source": [
    "# start with easy implemetation: only consider the content of the 2 fields review_title and review_text\n",
    "# concantenate them in one new field \"review_concat\"from pyspark.sql import SQLContext\n",
    "from pyspark.sql import functions as fn\n",
    "filepath = '../data_processed/ExctractedData.json'\n",
    "# load JSON file\n",
    "s_df = spark.read.json(filepath)\n",
    "# concatenate review text and title in one field\n",
    "s_df = s_df.withColumn('review_concat',fn.concat(fn.col('review_title'),fn.lit(' '), fn.col('review_text')))\n",
    "s_df.printSchema()"
   ]
  },
  {
   "cell_type": "code",
   "execution_count": 5,
   "metadata": {},
   "outputs": [
    {
     "name": "stdout",
     "output_type": "stream",
     "text": [
      "root\n",
      " |-- book_id: string (nullable = true)\n",
      " |-- book_title: string (nullable = true)\n",
      " |-- review_id: string (nullable = true)\n",
      " |-- review_score: integer (nullable = true)\n",
      " |-- review_text: string (nullable = true)\n",
      " |-- review_title: string (nullable = true)\n",
      " |-- review_user: string (nullable = true)\n",
      " |-- timestamp: long (nullable = true)\n",
      " |-- review_concat: string (nullable = true)\n",
      "\n"
     ]
    }
   ],
   "source": [
    "# review_score is of type String ==> cast it from String to Integer\n",
    "from pyspark.sql.types import IntegerType\n",
    "s_df = s_df.withColumn(\"review_score\", s_df[\"review_score\"].cast(IntegerType()))\n",
    "s_df.printSchema()"
   ]
  },
  {
   "cell_type": "code",
   "execution_count": 6,
   "metadata": {},
   "outputs": [
    {
     "name": "stdout",
     "output_type": "stream",
     "text": [
      "+------------+-----+\n",
      "|review_score|count|\n",
      "+------------+-----+\n",
      "|           5|10093|\n",
      "|           4| 1281|\n",
      "|           3|  395|\n",
      "|           2|  187|\n",
      "|           1|  145|\n",
      "+------------+-----+\n",
      "\n"
     ]
    }
   ],
   "source": [
    "# show score distribution, we see classes are highly unbalanced\n",
    "from pyspark.sql.functions import col\n",
    "s_df.groupBy(\"review_score\") \\\n",
    "    .count() \\\n",
    "    .orderBy(col(\"count\").desc()) \\\n",
    "    .show()"
   ]
  },
  {
   "cell_type": "code",
   "execution_count": 7,
   "metadata": {},
   "outputs": [
    {
     "name": "stdout",
     "output_type": "stream",
     "text": [
      "+------------+-----+\n",
      "|review_score|count|\n",
      "+------------+-----+\n",
      "|           5|10093|\n",
      "|           4| 1281|\n",
      "|           3|  395|\n",
      "|           2|  187|\n",
      "|           1|  145|\n",
      "+------------+-----+\n",
      "\n"
     ]
    }
   ],
   "source": [
    "# check if duplicate review (normally not the case as the python script that filters the JSON took care of that)\n",
    "s_df.dropDuplicates(['review_id'])\n",
    "s_df.groupBy(\"review_score\") \\\n",
    "    .count() \\\n",
    "    .orderBy(col(\"count\").desc()) \\\n",
    "    .show()"
   ]
  },
  {
   "cell_type": "code",
   "execution_count": 52,
   "metadata": {},
   "outputs": [
    {
     "data": {
      "text/plain": [
       "[Row(book_id='62678426', book_title='The Woman in the Window: A Novel', review_id='RZFSIAUSHZH43', review_score='5', review_text=\"Someone recommended this book but wouldn't say much about it. Lots of twists and turns, trying to figure out what was reality and what wasn't.Don't start this if you have to be somewhere else. It's hard to put down until you know how it ends.\", review_title='Twists and turns', review_user='LindaG', timestamp=1556699124, review_concat=\"Twists and turns Someone recommended this book but wouldn't say much about it. Lots of twists and turns, trying to figure out what was reality and what wasn't.Don't start this if you have to be somewhere else. It's hard to put down until you know how it ends.\"),\n",
       " Row(book_id='1455536156', book_title='Scraps, Wilt & Weeds: Turning Wasted Food into Plenty', review_id='RSSSXHBF4BJJY', review_score='4', review_text='A well written and inspiring cook book! As a chef my self i was impressed with some of the applications for food waste!', review_title='Great book !', review_user='Tracy Rowan', timestamp=1556699114, review_concat='Great book ! A well written and inspiring cook book! As a chef my self i was impressed with some of the applications for food waste!')]"
      ]
     },
     "execution_count": 52,
     "metadata": {},
     "output_type": "execute_result"
    }
   ],
   "source": [
    "# show first few reviews\n",
    "s_df.head(2)"
   ]
  },
  {
   "cell_type": "code",
   "execution_count": 10,
   "metadata": {},
   "outputs": [
    {
     "data": {
      "text/plain": [
       "Row(book_id='62678426', book_title='The Woman in the Window: A Novel', review_id='RZFSIAUSHZH43', review_score=5, review_text=\"Someone recommended this book but wouldn't say much about it. Lots of twists and turns, trying to figure out what was reality and what wasn't.Don't start this if you have to be somewhere else. It's hard to put down until you know how it ends.\", review_title='Twists and turns', review_user='LindaG', timestamp=1556699124, review_concat=\"Twists and turns Someone recommended this book but wouldn't say much about it. Lots of twists and turns, trying to figure out what was reality and what wasn't.Don't start this if you have to be somewhere else. It's hard to put down until you know how it ends.\")"
      ]
     },
     "execution_count": 10,
     "metadata": {},
     "output_type": "execute_result"
    }
   ],
   "source": [
    "# look at first 5 star review\n",
    "s_df.where(fn.col('review_score') == 5).first()"
   ]
  },
  {
   "cell_type": "code",
   "execution_count": 11,
   "metadata": {},
   "outputs": [
    {
     "data": {
      "text/plain": [
       "Row(book_id='0143110438', book_title='A Gentleman in Moscow: A Novel', review_id='R3QEDU4XU80W5U', review_score=1, review_text=\"I followed the high Amazon reviews for this book and cannot believe how this book is popular.  Yes, the author is talented and his writing is very sophisticated.....but this book has NO plot, the characters are boring and the story could be told in about 10 pages.  Literally, nothing interesting happens in this book....instead, it's 460 pages of non-nonsensical rambling.\", review_title='BORING RAMBLING', review_user='Amazon Customer', timestamp=1554764357, review_concat=\"BORING RAMBLING I followed the high Amazon reviews for this book and cannot believe how this book is popular.  Yes, the author is talented and his writing is very sophisticated.....but this book has NO plot, the characters are boring and the story could be told in about 10 pages.  Literally, nothing interesting happens in this book....instead, it's 460 pages of non-nonsensical rambling.\")"
      ]
     },
     "execution_count": 11,
     "metadata": {},
     "output_type": "execute_result"
    }
   ],
   "source": [
    "# look at 1 very bad review\n",
    "s_df.where(fn.col('review_score') == 1).first()"
   ]
  },
  {
   "cell_type": "code",
   "execution_count": 12,
   "metadata": {},
   "outputs": [
    {
     "data": {
      "text/plain": [
       "Row(review_concat=\"BORING RAMBLING I followed the high Amazon reviews for this book and cannot believe how this book is popular.  Yes, the author is talented and his writing is very sophisticated.....but this book has NO plot, the characters are boring and the story could be told in about 10 pages.  Literally, nothing interesting happens in this book....instead, it's 460 pages of non-nonsensical rambling.\")"
      ]
     },
     "execution_count": 12,
     "metadata": {},
     "output_type": "execute_result"
    }
   ],
   "source": [
    "# Show ony review_concat field\n",
    "s_df.select('review_concat').where(fn.col('review_score') == 1).first()"
   ]
  },
  {
   "cell_type": "code",
   "execution_count": 8,
   "metadata": {},
   "outputs": [
    {
     "data": {
      "text/plain": [
       "['a',\n",
       " 'about',\n",
       " 'above',\n",
       " 'across',\n",
       " 'after',\n",
       " 'afterwards',\n",
       " 'again',\n",
       " 'against',\n",
       " 'all',\n",
       " 'almost']"
      ]
     },
     "execution_count": 8,
     "metadata": {},
     "output_type": "execute_result"
    }
   ],
   "source": [
    "# import stop words to filter them out from the reviews\n",
    "import requests\n",
    "stop_words = requests.get('http://ir.dcs.gla.ac.uk/resources/linguistic_utils/stop_words').text.split()\n",
    "stop_words[0:10]"
   ]
  },
  {
   "cell_type": "code",
   "execution_count": 9,
   "metadata": {
    "scrolled": true
   },
   "outputs": [
    {
     "name": "stdout",
     "output_type": "stream",
     "text": [
      "root\n",
      " |-- book_id: string (nullable = true)\n",
      " |-- book_title: string (nullable = true)\n",
      " |-- review_id: string (nullable = true)\n",
      " |-- review_score: integer (nullable = true)\n",
      " |-- review_text: string (nullable = true)\n",
      " |-- review_title: string (nullable = true)\n",
      " |-- review_user: string (nullable = true)\n",
      " |-- timestamp: long (nullable = true)\n",
      " |-- review_concat: string (nullable = true)\n",
      "\n"
     ]
    }
   ],
   "source": [
    "# define processing 4 steps and execute them with a trsnformation pipeline\n",
    "from pyspark.ml.feature import RegexTokenizer, StopWordsRemover, CountVectorizer, IDF\n",
    "from pyspark.ml import Pipeline\n",
    "# 1. Tokenizer, .setPattern(\"\\\\p{L}+\") means that it remove accent from words (check it has no impact on the smileys !!!)\n",
    "tokenizer = RegexTokenizer().setGaps(False)\\\n",
    "  .setPattern(\"\\\\p{L}+\")\\\n",
    "  .setInputCol(\"review_concat\")\\\n",
    "  .setOutputCol(\"words\")\n",
    "# 2. filter out stop words\n",
    "sw_filter = StopWordsRemover()\\\n",
    "  .setStopWords(stop_words)\\\n",
    "  .setCaseSensitive(False)\\\n",
    "  .setInputCol(\"words\")\\\n",
    "  .setOutputCol(\"filtered\")\n",
    "# 3. TF: TF vectorization + remove words that appear in 20 docs or less\n",
    "cv = CountVectorizer(minTF=1., minDF=20., vocabSize=2**17)\\\n",
    "  .setInputCol(\"filtered\")\\\n",
    "  .setOutputCol(\"tf\")\n",
    "# 4. TF-IDF transform\n",
    "idf = IDF().\\\n",
    "    setInputCol('tf').\\\n",
    "    setOutputCol('tfidf')\n",
    "# Create a pipelined transformer\n",
    "tfidf_pipeline = Pipeline(stages=[tokenizer, sw_filter, cv, idf]).fit(s_df)\n",
    "# Execute transform\n",
    "tfidf_pipeline.transform(s_df)\n",
    "#s_df.select('tf').where(fn.col('review_score') == 1).first()\n",
    "s_df.printSchema()"
   ]
  },
  {
   "cell_type": "code",
   "execution_count": 10,
   "metadata": {},
   "outputs": [
    {
     "data": {
      "text/plain": [
       "[9718, 2383]"
      ]
     },
     "execution_count": 10,
     "metadata": {},
     "output_type": "execute_result"
    }
   ],
   "source": [
    "# split in train, valid and test sets\n",
    "#training_df, validation_df, testing_df = s_df.randomSplit([0.7, 0.2, 0.1], seed=42)\n",
    "#[training_df.count(), validation_df.count(), testing_df.count()]\n",
    "\n",
    "# start w/o validation set\n",
    "training_df, testing_df = s_df.randomSplit([0.8, 0.2], seed=42)\n",
    "[training_df.count(), testing_df.count()]"
   ]
  },
  {
   "cell_type": "code",
   "execution_count": 12,
   "metadata": {},
   "outputs": [
    {
     "name": "stdout",
     "output_type": "stream",
     "text": [
      "+-----------------+\n",
      "|     avg(correct)|\n",
      "+-----------------+\n",
      "|0.892992026856903|\n",
      "+-----------------+\n",
      "\n"
     ]
    }
   ],
   "source": [
    "# perform simple logistic regression \n",
    "from pyspark.ml.classification import LogisticRegression\n",
    "lr = LogisticRegression().\\\n",
    "    setLabelCol('review_score').\\\n",
    "    setFeaturesCol('tfidf').\\\n",
    "    setRegParam(0.0).\\\n",
    "    setMaxIter(100).\\\n",
    "    setElasticNetParam(0.)\n",
    "# new pipeline to chain idf_pipeline with logistic regression\n",
    "lr_pipeline = Pipeline(stages=[tfidf_pipeline, lr]).fit(training_df)\n",
    "# fitting + accuracy estimation\n",
    "predictions = lr_pipeline.transform(testing_df)\n",
    "predictions.select(fn.expr('float(prediction = review_score)').alias('correct')).\\\n",
    "    select(fn.avg('correct')).show()"
   ]
  },
  {
   "cell_type": "code",
   "execution_count": 13,
   "metadata": {},
   "outputs": [
    {
     "name": "stdout",
     "output_type": "stream",
     "text": [
      "Score = 1\n",
      "+------------------+\n",
      "|      avg(correct)|\n",
      "+------------------+\n",
      "|0.4827586206896552|\n",
      "+------------------+\n",
      "\n",
      "Score = 2\n",
      "+-------------------+\n",
      "|       avg(correct)|\n",
      "+-------------------+\n",
      "|0.47368421052631576|\n",
      "+-------------------+\n",
      "\n",
      "Score = 3\n",
      "+------------------+\n",
      "|      avg(correct)|\n",
      "+------------------+\n",
      "|0.5952380952380952|\n",
      "+------------------+\n",
      "\n",
      "Score = 4\n",
      "+------------------+\n",
      "|      avg(correct)|\n",
      "+------------------+\n",
      "|0.6856060606060606|\n",
      "+------------------+\n",
      "\n",
      "Score = 5\n",
      "+------------------+\n",
      "|      avg(correct)|\n",
      "+------------------+\n",
      "|0.9476626016260162|\n",
      "+------------------+\n",
      "\n"
     ]
    }
   ],
   "source": [
    "# score above seems OK but now let's check the accuracy per class. we see it is not good for all but 5\n",
    "print('Score = 1')\n",
    "predictions.filter(predictions['review_score'] == 1).\\\n",
    "    select(fn.expr('float(prediction = review_score)').alias('correct')).\\\n",
    "    select(fn.avg('correct')).show()\n",
    "print('Score = 2')\n",
    "predictions.filter(predictions['review_score'] == 2).\\\n",
    "    select(fn.expr('float(prediction = review_score)').alias('correct')).\\\n",
    "    select(fn.avg('correct')).show()\n",
    "print('Score = 3')\n",
    "predictions.filter(predictions['review_score'] == 3).\\\n",
    "    select(fn.expr('float(prediction = review_score)').alias('correct')).\\\n",
    "    select(fn.avg('correct')).show()\n",
    "print('Score = 4')\n",
    "predictions.filter(predictions['review_score'] == 4).\\\n",
    "    select(fn.expr('float(prediction = review_score)').alias('correct')).\\\n",
    "    select(fn.avg('correct')).show()\n",
    "print('Score = 5')\n",
    "predictions.filter(predictions['review_score'] == 5).\\\n",
    "    select(fn.expr('float(prediction = review_score)').alias('correct')).\\\n",
    "    select(fn.avg('correct')).show()"
   ]
  },
  {
   "cell_type": "code",
   "execution_count": 14,
   "metadata": {},
   "outputs": [
    {
     "name": "stdout",
     "output_type": "stream",
     "text": [
      "+--------------+----------------------------------------------------------------------+------------+----------+\n",
      "|     review_id|                                                         review_concat|review_score|prediction|\n",
      "+--------------+----------------------------------------------------------------------+------------+----------+\n",
      "|R1CEBJPZE4H5YE|The Next Worst Thing to Being There When you move through this book...|           5|       5.0|\n",
      "|R1CNZRHE674DEW|The Next Worst Thing to Being There When you move through this book...|           5|       5.0|\n",
      "|R1CNZRHE674DEW|The Next Worst Thing to Being There When you move through this book...|           5|       5.0|\n",
      "|R300GA3M5Q1T11|                                   Great true crime novel. Great book.|           5|       5.0|\n",
      "|R3PB2ZW7LRKR3L|                                   Great true crime novel. Great book.|           5|       5.0|\n",
      "|R2FYM3CL5CIQAC|One of Jacqueline Winspear's best tales I've read every Maisie Dobb...|           5|       5.0|\n",
      "| RGRNSXBDRRN3N|Maisie and Anna Maisie deserves to find contentment but only seems ...|           5|       5.0|\n",
      "| RJVPR9XTNUV7M|Better than the last book After the last couple of books in the ser...|           5|       5.0|\n",
      "| RMT7MJJ6N4PYS|Maisie and Anna Maisie deserves to find contentment but only seems ...|           5|       5.0|\n",
      "|R1DEP75RX8W7MM|Hard to follow. Really wished it was easier to read. I kept having ...|           5|       5.0|\n",
      "|R1105KED1NTNC0|An Impressive Cookbook The Blue Apron Cookbook, which was released ...|           5|       5.0|\n",
      "|R1D4SIKSXUEXFA|Not a conventional cookbook. Tips on what pans, ... Not a conventio...|           5|       5.0|\n",
      "|R1I9Z3YTMOKF0K|Not a conventional cookbook. Tips on what pans, ... Not a conventio...|           5|       5.0|\n",
      "|R1IGE38DXZ38WF|An Impressive Cookbook The Blue Apron Cookbook, which was released ...|           5|       5.0|\n",
      "|R1X99FYG793FS5|Love this cookbook! This is the first review I have ever written on...|           5|       5.0|\n",
      "|R2FD9QKU8EDK4L|                                       Hard! Very COMPLICATED recipes.|           5|       5.0|\n",
      "|R39HK7MQ5IDPUS|Slow navigation The ebook seems to be slightly defective taking an ...|           5|       5.0|\n",
      "|R3M2YSTITH4ST4|An Impressive Cookbook The Blue Apron Cookbook, which was released ...|           5|       5.0|\n",
      "|R3M2YSTITH4ST4|An Impressive Cookbook The Blue Apron Cookbook, which was released ...|           5|       5.0|\n",
      "|R3OYO2V00TRKWZ|Love this cookbook! This is the first review I have ever written on...|           5|       5.0|\n",
      "| R8AWW4I4ODSDA|An Impressive Cookbook The Blue Apron Cookbook, which was released ...|           5|       5.0|\n",
      "| RFOFD1DGSPS15|Not a conventional cookbook. Tips on what pans, ... Not a conventio...|           5|       5.0|\n",
      "| RXS5W15NEBSLS|Not a conventional cookbook. Tips on what pans, ... Not a conventio...|           5|       5.0|\n",
      "| RZV0B9PMU04S8|                                            BUY THIS! Love Blue Apron!|           5|       5.0|\n",
      "|R3IAKIEAC3BSK7|Great Resource for Your Mind and Body What I appreciated so much ab...|           4|       4.0|\n",
      "| RSV4GMHUKRCDM|Beautiful and helpful! A beautiful cookbook with. So much helpful i...|           4|       4.0|\n",
      "|R1QDK3SRM6UGQ4|A life saving book I have been waiting for this book for months now...|           5|       5.0|\n",
      "|R2Q7RSKYSBSW4Q|A wealth of information packed into this book! This is a great info...|           5|       5.0|\n",
      "|R2SIEEDDR9X42V|A beautiful resource for anyone with autoimmunity As a functional m...|           5|       5.0|\n",
      "|R3DABNQ5EBEPYJ|Phenomenal book with excellent recommendation and great recipes! I ...|           5|       5.0|\n",
      "|R3J3Y0I7OCYKX4|Beautiful book with amazing recipes This book is AMAZING. Dr. Wentz...|           5|       5.0|\n",
      "| RZD7P07R206AM|Highly Recommend! So good! I would highly recommend this book for a...|           5|       5.0|\n",
      "|R10JW7J46TQ845|Noir at It's Best Winter tapping on my windows. The flickering cube...|           5|       5.0|\n",
      "|R10NA2HSY3H789|Pretty amazing debut novel! Overall I was stunned by this book....t...|           4|       4.0|\n",
      "|R13CYIEE4NY1MN|Wow!!! This book is like \"The Girl On The Train\". Holy cow, you can...|           5|       5.0|\n",
      "|R1479IITNVUIPU|Good,  but terrible ending. Liked it until the last 10 percent.  To...|           3|       3.0|\n",
      "|R14NN6L8PS60EB|This was a good and twisty novel This was a good and twisty novel. ...|           4|       4.0|\n",
      "|R1534TDB63CD0R|A suspenseful mystery of a very unique sort. It’s good. This is a c...|           5|       5.0|\n",
      "|R15DG6BI3K1I78|Although reviews are universally stellar, highly recommend one avoi...|           5|       5.0|\n",
      "|R15TXYKYLP4AU0|If you're looking for a thriller, buy this book! What an intense st...|           4|       5.0|\n",
      "|R15TXYKYLP4AU0|If you're looking for a thriller, buy this book! What an intense st...|           4|       5.0|\n",
      "|R16QL58OMXZX11|I felt the book had a slow start but once ... I felt the book had a...|           5|       3.0|\n",
      "|R16QL58OMXZX11|I felt the book had a slow start but once ... I felt the book had a...|           5|       3.0|\n",
      "| R16SCXAGNFRXD|Page turner The writing was intriguing and definitely kept me turni...|           4|       5.0|\n",
      "|R16UEXPXD176A4|The last third of the novel was extremely good and explored and exp...|           3|       5.0|\n",
      "|R17DOX1VRWXOVX|Surprise ending! Great book. As an avid reader a book rarely surpri...|           5|       5.0|\n",
      "|R17ZO2D7S98TQQ|OMG how many books do I have to read where the Bad Seed is the vill...|           2|       1.0|\n",
      "|R17ZO2D7S98TQQ|OMG how many books do I have to read where the Bad Seed is the vill...|           2|       1.0|\n",
      "|R18E85EKCWU53F|A complete waste of my time Soooo tedious. The drinking, the pills,...|           1|       1.0|\n",
      "|R18O63B1421JQS|Good read! A page Turner. A great call back to an Alfred Hitchcock ...|           4|       5.0|\n",
      "|R18O63B1421JQS|Good read! A page Turner. A great call back to an Alfred Hitchcock ...|           4|       5.0|\n",
      "|R18R7AKLRO59HN|Couldn’t read fast enough! This is definitely a great thriller to s...|           5|       5.0|\n",
      "|R199SE5J94PI2Q|Good mystery Surprise ending. Hints all along the way, but didn't p...|           4|       4.0|\n",
      "|R19XJ8WAFIPL5D|BEST BOOK I'VE READ THIS YEAR EASILY! Wow! I wasn't sure what I was...|           5|       5.0|\n",
      "|R1A11O5HX8LX9K|Slow to start but stick with it! Found myself trying to “figure it ...|           4|       4.0|\n",
      "|R1AB13CRLKVSX5|Pretty pretty pretty good! It didn't feel like a book. A book to me...|           4|       4.0|\n",
      "|R1ACNBPAR5AV1X|Forgettable and disappointing I bought the Audio version.  Despite ...|           2|       4.0|\n",
      "|R1AN8ETB4I7P5N|Couldn't finish I think this is truly a horrible book.  I hated it....|           1|       5.0|\n",
      "|R1C3C02E4353C3|Good suspense. All does t come together until the end Slightly slow...|           5|       5.0|\n",
      "|R1D3A61OTEN6QX|Horrible I never write reviews but this book is so bad I have to sa...|           1|       3.0|\n",
      "|R1E1J0ZF33CI2L|Bored to tears! Slow and boring. You can read the last 10 chapters ...|           2|       2.0|\n",
      "|R1EBUO8CZF8Q2P|Ok... This wasn't my favorite book by any means.  I got tired of re...|           3|       3.0|\n",
      "|R1EZ2LDJM7JBF2|Slow to build up. All the action is at the very end. Moved a bit sl...|           3|       3.0|\n",
      "|R1FHJERMIOEJ8K|Just not of interest Although the writing was fine and the characte...|           3|       3.0|\n",
      "|R1GEWYIFO704JM|That was great! All I hoped for..... True a previous description, v...|           5|       5.0|\n",
      "|R1H1YTRFRA871X|It’s a good read, it didn’t blow my mind though I liked the plot tw...|           3|       3.0|\n",
      "|R1HESCO1R2T3L0|If you think you have it figured out, you don’t. I wasn’t at all sy...|           4|       4.0|\n",
      "|R1I0LV9HHN85AQ|Who decided this book was so great? Highly overrated , cut me a bre...|           2|       2.0|\n",
      "|R1I7VE9HL9PLC0|Rear Window redux Hitchcockian in a Rear Window sort of way. Anna d...|           4|       5.0|\n",
      "|R1ISI0Z7LMR3B1|Great thrill ride! If you are looking for a page Turner with twists...|           5|       5.0|\n",
      "|R1J7XVPWFXKV0A|Couldn’t put it down This is A.J Finn’s debut book and WOW!  This i...|           5|       5.0|\n",
      "|R1JEQVWRKS36KT|When you read something this good, it makes you wonder how you coul...|           5|       5.0|\n",
      "|R1JNBZKMWKGFU8|WOW!!! Wow!  Twists and turns galore!  Even when you’re expecting a...|           5|       5.0|\n",
      "| R1JTARMU607T8|Turn-paging mystery that appropriately distracts If you are looking...|           4|       4.0|\n",
      "|R1K4UZCO6T3BJ1|If Stephen King says it's good, who are you to question it?  MUST R...|           5|       5.0|\n",
      "| R1K9NG87GY8IS|Lots of twists and turns Very good character development and this s...|           5|       4.0|\n",
      "| R1K9NG87GY8IS|Lots of twists and turns Very good character development and this s...|           5|       4.0|\n",
      "|R1KHAWUHB3ZHVV|Intriguing read. I was wrapped up in the story by the end of the fi...|           4|       5.0|\n",
      "|R1KUD2BFZM4LQ4|Page turner Shocking twists and turns that threw me back!  Highly r...|           5|       5.0|\n",
      "|R1L62MMK8A3OK8|An isolated, agoraphobic, alcoholic, who likes to spy on her neighb...|           4|       4.0|\n",
      "|R1LG0RT0KQA3OV|reels you in and barbs you out of the water Easily digestible witho...|           4|       4.0|\n",
      "|R1MCHRFSY2P176|Great debut novel Great writing, distinct and different. This autho...|           4|       4.0|\n",
      "|R1MNKTHJES1FHU|                          Good read Was a good book.. kept me guessing|           4|       4.0|\n",
      "|R1MQE9MM62420B|Good book This book kept my interest all the way through, there wer...|           4|       4.0|\n",
      "|R1MQE9MM62420B|Good book This book kept my interest all the way through, there wer...|           4|       4.0|\n",
      "|R1MQVKVEPBJIZU|Well written and suspenseful Kept me guessing and when I thought I ...|           5|       5.0|\n",
      "|R1NGV7AK4UUYN5|Things aren't what they seem.....! Finished this book in three days...|           4|       5.0|\n",
      "|R1NGV7AK4UUYN5|Things aren't what they seem.....! Finished this book in three days...|           4|       5.0|\n",
      "|R1NY8DC7W6BS9L|Plot twists you really won't see coming. So good!  A thriller with ...|           5|       5.0|\n",
      "|R1O8J8V638FG7M|Surprises in store There were a few things I figured out, but some ...|           4|       4.0|\n",
      "|R1OPNZXHLLPHOP|Read this for a book club Really enjoyed the story.  Started off a ...|           5|       5.0|\n",
      "|R1QAIYCXC34DNP|On the edge of my seat The author really was able to convey the hop...|           5|       5.0|\n",
      "|R1QEL7JVX1S2YY|Total surprise several times! A great mystery! Well written and you...|           5|       5.0|\n",
      "| R1QL0NOTB8KV4|Very suspenseful novel. I had to stop reading this when the book be...|           5|       5.0|\n",
      "|R1QM3R8O62AE6E|My sister recently recommended this book My sister recently recomme...|           5|       5.0|\n",
      "|R1QV4CFLLUW7DI|Easy read with twists and turns I really enjoyed this book. The cha...|           5|       5.0|\n",
      "|R1ROQIVQJUI0G7|Talk about Shocked I had no clue this story would take such a drast...|           4|       4.0|\n",
      "|R1SFEGAI7MARCF|Rear window on steroids Wow i just was not prepared for the twists ...|           4|       4.0|\n",
      "|R1SHZMX0LIO9FH|Rear Window meets Disturbia I was worried this would be like all th...|           5|       5.0|\n",
      "|R1SM2F7XMC6WYE|Great Twists! Great character development & suspense. I had to read...|           5|       5.0|\n",
      "+--------------+----------------------------------------------------------------------+------------+----------+\n",
      "only showing top 100 rows\n",
      "\n"
     ]
    }
   ],
   "source": [
    "# show some predictions\n",
    "predictions.select(\"review_id\",\"review_concat\",\"review_score\",\"prediction\") \\\n",
    "    .show(n = 100, truncate = 70)"
   ]
  },
  {
   "cell_type": "code",
   "execution_count": 15,
   "metadata": {},
   "outputs": [
    {
     "name": "stdout",
     "output_type": "stream",
     "text": [
      "+--------------+----------------------------------------------------------------------+------------+----------+\n",
      "|     review_id|                                                         review_concat|review_score|prediction|\n",
      "+--------------+----------------------------------------------------------------------+------------+----------+\n",
      "|R18E85EKCWU53F|A complete waste of my time Soooo tedious. The drinking, the pills,...|           1|       1.0|\n",
      "|R1AN8ETB4I7P5N|Couldn't finish I think this is truly a horrible book.  I hated it....|           1|       5.0|\n",
      "|R1D3A61OTEN6QX|Horrible I never write reviews but this book is so bad I have to sa...|           1|       3.0|\n",
      "|R24G49195RDQSV|Waste of time Extremely disappointed in this book.  Do not understa...|           1|       1.0|\n",
      "|R2FG2SAHEV8AD9|Be careful when you order! What I received was in German. Figuring ...|           1|       1.0|\n",
      "|R2FNSA44HYXZTB|Deadly dull I bought this book because Amy Adams will star in the f...|           1|       5.0|\n",
      "|R3490G3OVNAOK1|Another crazy lady acts like a crazy lady On and on it goes, from o...|           1|       1.0|\n",
      "|R3JIWG0UX2XLO5|A suspenseful pamphlet (Spoilers)My first issue is that it took 1/3...|           1|       1.0|\n",
      "| RIFXA8V0Y9RG6|Just terrible! very slow moving with no reward.  How is this on the...|           1|       3.0|\n",
      "| RVPV5OTRXGISI|Wish I hadn't wasted my time. There really wasn't anything I liked ...|           1|       1.0|\n",
      "|R207ASM6MD62I6|Terribly disappointing book These comments have nothing to do with ...|           1|       3.0|\n",
      "|R3NT7O9WGUJX3W|Iles phoned it in Terrible job; did he phone it in?  I will be real...|           1|       5.0|\n",
      "| ROI5LTSVAJ43C|                                    One Star Didn’t care for this book|           1|       5.0|\n",
      "|R27HS39U4KY6HD|                             Joe is getting old. Ok. Very predictable.|           1|       1.0|\n",
      "| R6E1SJFP622QN|Terrible, just terrible I have loved the Joe Pickett books for year...|           1|       1.0|\n",
      "|R20LI4V45AVRSL|Do NOT order this edition - it's full of typos, punctuation errors,...|           1|       1.0|\n",
      "|R37RFVLJM5V61U|Do NOT order this edition - it's full of typos, punctuation errors,...|           1|       1.0|\n",
      "|R1DRPMN3Q6T9Z8|Just couldn't like it I respect Rachel and love so many things she ...|           1|       5.0|\n",
      "|R2EK7POPC5QZ4V|THIS IS NOT A CHRISTIAN BOOK! This is Rachel's second book and just...|           1|       5.0|\n",
      "|R30Q45MDSVBXA3|I really really tried to like this. I honestly hate to give bad rev...|           1|       5.0|\n",
      "|R32ALTECOJR48N|Don't Bother After reading 30% of the book I quickly thumbed throug...|           1|       5.0|\n",
      "|R1GGGBB1N4MMJO|Couldn't even finish it was that bad I wanted to like this book. A ...|           1|       1.0|\n",
      "|R2V0LGVYYOZJFU|ROMANTICIZED ABUSE I honestly don't understand how people like this...|           1|       5.0|\n",
      "|R3OFRMJLN3P59H|                                             One Star terribly written|           1|       1.0|\n",
      "| RLYSD7D9BD5QY|One Star One depressing series of rape and murders...I could not co...|           1|       3.0|\n",
      "|R2YT4I5Q9E8FS5|Nothing more than a political hack job. Read all Don Winslow’s book...|           1|       1.0|\n",
      "|R18E85EKCWU53F|A complete waste of my time Soooo tedious. The drinking, the pills,...|           1|       1.0|\n",
      "|  R50JW2WMC3O4|Good idea but executed poorly Started off pretty well but then kept...|           1|       3.0|\n",
      "| ROTFV8JJ5SPOK|Well.... This start off with a bang and then went into a physical f...|           1|       5.0|\n",
      "+--------------+----------------------------------------------------------------------+------------+----------+\n",
      "\n"
     ]
    }
   ],
   "source": [
    "# show some predictions for which the ground truth was score = 1\n",
    "predictions.filter(predictions['review_score'] == 1).\\\n",
    "    select(\"review_id\",\"review_concat\",\"review_score\",\"prediction\"). \\\n",
    "    show(n = 100, truncate = 70)"
   ]
  },
  {
   "cell_type": "code",
   "execution_count": 16,
   "metadata": {},
   "outputs": [
    {
     "data": {
      "text/plain": [
       "[Row(book_id='006227564X', book_title='Fall and Rise: The Story of 9/11', review_id='R1CEBJPZE4H5YE', review_score=5, review_text=\"When you move through this book, it's like walking through a haunted house with the lights off. You know the gut-punches are coming, and they do. One after another they pile up; things that were missed, a report from the Spring of 2001 warning of an impending attack by Bin Laden that went unheeded, air traffic personnel faced with a situation they had never imagined in their wildest dreams, one of the hijackers flying under his own name even though he was on the FBI's no-fly list.\\n\\nThen there are the people; there are countless looks into the normal, everyday lives of the men, women and children murdered by the terrorists; each time you read about someone's honeymoon plans that would never materialize, someone carrying a baby who would never know their father, or someone bidding their spouse goodbye with a quick peck on the cheek, it's another dagger to the heart.\\n\\nIt's a necessary book, and one that will not easily leave your mind...nor should it. If you watched the excellent multi-part National Geographic Channel documentary on 9/11, you will get a great deal out of this book.\\n\\nAs a radio broadcaster who was on the air the moment the second plane hit, and with a newly-adopted 2 year old daughter, 9/11 resonates with me, as I'm sure it does everyone. Read this book and learn more about the worst day in the history of America.\", review_title='The Next Worst Thing to Being There', review_user='Alan Beumann', timestamp=1556909515, review_concat=\"The Next Worst Thing to Being There When you move through this book, it's like walking through a haunted house with the lights off. You know the gut-punches are coming, and they do. One after another they pile up; things that were missed, a report from the Spring of 2001 warning of an impending attack by Bin Laden that went unheeded, air traffic personnel faced with a situation they had never imagined in their wildest dreams, one of the hijackers flying under his own name even though he was on the FBI's no-fly list.\\n\\nThen there are the people; there are countless looks into the normal, everyday lives of the men, women and children murdered by the terrorists; each time you read about someone's honeymoon plans that would never materialize, someone carrying a baby who would never know their father, or someone bidding their spouse goodbye with a quick peck on the cheek, it's another dagger to the heart.\\n\\nIt's a necessary book, and one that will not easily leave your mind...nor should it. If you watched the excellent multi-part National Geographic Channel documentary on 9/11, you will get a great deal out of this book.\\n\\nAs a radio broadcaster who was on the air the moment the second plane hit, and with a newly-adopted 2 year old daughter, 9/11 resonates with me, as I'm sure it does everyone. Read this book and learn more about the worst day in the history of America.\"),\n",
       " Row(book_id='006227564X', book_title='Fall and Rise: The Story of 9/11', review_id='R26TDNZI0V3ZI5', review_score=5, review_text=\"When you move through this book, it's like walking through a haunted house with the lights off. You know the gut-punches are coming, and they do. One after another they pile up; things that were missed, a report from the Spring of 2001 warning of an impending attack by Bin Laden that went unheeded, air traffic personnel faced with a situation they had never imagined in their wildest dreams, one of the hijackers flying under his own name even though he was on the FBI's no-fly list.\\n\\nThen there are the people; there are countless looks into the normal, everyday lives of the men, women and children murdered by the terrorists; each time you read about someone's honeymoon plans that would never materialize, someone carrying a baby who would never know their father, or someone bidding their spouse goodbye with a quick peck on the cheek, it's another dagger to the heart.\\n\\nIt's a necessary book, and one that will not easily leave your mind...nor should it. If you watched the excellent multi-part National Geographic Channel documentary on 9/11, you will get a great deal out of this book.\\n\\nAs a radio broadcaster who was on the air the moment the second plane hit, and with a newly-adopted 2 year old daughter, 9/11 resonates with me, as I'm sure it does everyone. Read this book and learn more about the worst day in the history of America.\", review_title='The Next Worst Thing to Being There', review_user='Alan Beumann', timestamp=1556911555, review_concat=\"The Next Worst Thing to Being There When you move through this book, it's like walking through a haunted house with the lights off. You know the gut-punches are coming, and they do. One after another they pile up; things that were missed, a report from the Spring of 2001 warning of an impending attack by Bin Laden that went unheeded, air traffic personnel faced with a situation they had never imagined in their wildest dreams, one of the hijackers flying under his own name even though he was on the FBI's no-fly list.\\n\\nThen there are the people; there are countless looks into the normal, everyday lives of the men, women and children murdered by the terrorists; each time you read about someone's honeymoon plans that would never materialize, someone carrying a baby who would never know their father, or someone bidding their spouse goodbye with a quick peck on the cheek, it's another dagger to the heart.\\n\\nIt's a necessary book, and one that will not easily leave your mind...nor should it. If you watched the excellent multi-part National Geographic Channel documentary on 9/11, you will get a great deal out of this book.\\n\\nAs a radio broadcaster who was on the air the moment the second plane hit, and with a newly-adopted 2 year old daughter, 9/11 resonates with me, as I'm sure it does everyone. Read this book and learn more about the worst day in the history of America.\"),\n",
       " Row(book_id='006227564X', book_title='Fall and Rise: The Story of 9/11', review_id='R26TDNZI0V3ZI5', review_score=5, review_text=\"When you move through this book, it's like walking through a haunted house with the lights off. You know the gut-punches are coming, and they do. One after another they pile up; things that were missed, a report from the Spring of 2001 warning of an impending attack by Bin Laden that went unheeded, air traffic personnel faced with a situation they had never imagined in their wildest dreams, one of the hijackers flying under his own name even though he was on the FBI's no-fly list.\\n\\nThen there are the people; there are countless looks into the normal, everyday lives of the men, women and children murdered by the terrorists; each time you read about someone's honeymoon plans that would never materialize, someone carrying a baby who would never know their father, or someone bidding their spouse goodbye with a quick peck on the cheek, it's another dagger to the heart.\\n\\nIt's a necessary book, and one that will not easily leave your mind...nor should it. If you watched the excellent multi-part National Geographic Channel documentary on 9/11, you will get a great deal out of this book.\\n\\nAs a radio broadcaster who was on the air the moment the second plane hit, and with a newly-adopted 2 year old daughter, 9/11 resonates with me, as I'm sure it does everyone. Read this book and learn more about the worst day in the history of America.\", review_title='The Next Worst Thing to Being There', review_user='Alan Beumann', timestamp=1556911555, review_concat=\"The Next Worst Thing to Being There When you move through this book, it's like walking through a haunted house with the lights off. You know the gut-punches are coming, and they do. One after another they pile up; things that were missed, a report from the Spring of 2001 warning of an impending attack by Bin Laden that went unheeded, air traffic personnel faced with a situation they had never imagined in their wildest dreams, one of the hijackers flying under his own name even though he was on the FBI's no-fly list.\\n\\nThen there are the people; there are countless looks into the normal, everyday lives of the men, women and children murdered by the terrorists; each time you read about someone's honeymoon plans that would never materialize, someone carrying a baby who would never know their father, or someone bidding their spouse goodbye with a quick peck on the cheek, it's another dagger to the heart.\\n\\nIt's a necessary book, and one that will not easily leave your mind...nor should it. If you watched the excellent multi-part National Geographic Channel documentary on 9/11, you will get a great deal out of this book.\\n\\nAs a radio broadcaster who was on the air the moment the second plane hit, and with a newly-adopted 2 year old daughter, 9/11 resonates with me, as I'm sure it does everyone. Read this book and learn more about the worst day in the history of America.\"),\n",
       " Row(book_id='006227564X', book_title='Fall and Rise: The Story of 9/11', review_id='R3ASROYHMVLXFE', review_score=5, review_text=\"When you move through this book, it's like walking through a haunted house with the lights off. You know the gut-punches are coming, and they do. One after another they pile up; things that were missed, a report from the Spring of 2001 warning of an impending attack by Bin Laden that went unheeded, air traffic personnel faced with a situation they had never imagined in their wildest dreams, one of the hijackers flying under his own name even though he was on the FBI's no-fly list.\\n\\nThen there are the people; there are countless looks into the normal, everyday lives of the men, women and children murdered by the terrorists; each time you read about someone's honeymoon plans that would never materialize, someone carrying a baby who would never know their father, or someone bidding their spouse goodbye with a quick peck on the cheek, it's another dagger to the heart.\\n\\nIt's a necessary book, and one that will not easily leave your mind...nor should it. If you watched the excellent multi-part National Geographic Channel documentary on 9/11, you will get a great deal out of this book.\\n\\nAs a radio broadcaster who was on the air the moment the second plane hit, and with a newly-adopted 2 year old daughter, 9/11 resonates with me, as I'm sure it does everyone. Read this book and learn more about the worst day in the history of America.\", review_title='The Next Worst Thing to Being There', review_user='Alan Beumann', timestamp=1556912455, review_concat=\"The Next Worst Thing to Being There When you move through this book, it's like walking through a haunted house with the lights off. You know the gut-punches are coming, and they do. One after another they pile up; things that were missed, a report from the Spring of 2001 warning of an impending attack by Bin Laden that went unheeded, air traffic personnel faced with a situation they had never imagined in their wildest dreams, one of the hijackers flying under his own name even though he was on the FBI's no-fly list.\\n\\nThen there are the people; there are countless looks into the normal, everyday lives of the men, women and children murdered by the terrorists; each time you read about someone's honeymoon plans that would never materialize, someone carrying a baby who would never know their father, or someone bidding their spouse goodbye with a quick peck on the cheek, it's another dagger to the heart.\\n\\nIt's a necessary book, and one that will not easily leave your mind...nor should it. If you watched the excellent multi-part National Geographic Channel documentary on 9/11, you will get a great deal out of this book.\\n\\nAs a radio broadcaster who was on the air the moment the second plane hit, and with a newly-adopted 2 year old daughter, 9/11 resonates with me, as I'm sure it does everyone. Read this book and learn more about the worst day in the history of America.\"),\n",
       " Row(book_id='006227564X', book_title='Fall and Rise: The Story of 9/11', review_id='R3ASROYHMVLXFE', review_score=5, review_text=\"When you move through this book, it's like walking through a haunted house with the lights off. You know the gut-punches are coming, and they do. One after another they pile up; things that were missed, a report from the Spring of 2001 warning of an impending attack by Bin Laden that went unheeded, air traffic personnel faced with a situation they had never imagined in their wildest dreams, one of the hijackers flying under his own name even though he was on the FBI's no-fly list.\\n\\nThen there are the people; there are countless looks into the normal, everyday lives of the men, women and children murdered by the terrorists; each time you read about someone's honeymoon plans that would never materialize, someone carrying a baby who would never know their father, or someone bidding their spouse goodbye with a quick peck on the cheek, it's another dagger to the heart.\\n\\nIt's a necessary book, and one that will not easily leave your mind...nor should it. If you watched the excellent multi-part National Geographic Channel documentary on 9/11, you will get a great deal out of this book.\\n\\nAs a radio broadcaster who was on the air the moment the second plane hit, and with a newly-adopted 2 year old daughter, 9/11 resonates with me, as I'm sure it does everyone. Read this book and learn more about the worst day in the history of America.\", review_title='The Next Worst Thing to Being There', review_user='Alan Beumann', timestamp=1556912455, review_concat=\"The Next Worst Thing to Being There When you move through this book, it's like walking through a haunted house with the lights off. You know the gut-punches are coming, and they do. One after another they pile up; things that were missed, a report from the Spring of 2001 warning of an impending attack by Bin Laden that went unheeded, air traffic personnel faced with a situation they had never imagined in their wildest dreams, one of the hijackers flying under his own name even though he was on the FBI's no-fly list.\\n\\nThen there are the people; there are countless looks into the normal, everyday lives of the men, women and children murdered by the terrorists; each time you read about someone's honeymoon plans that would never materialize, someone carrying a baby who would never know their father, or someone bidding their spouse goodbye with a quick peck on the cheek, it's another dagger to the heart.\\n\\nIt's a necessary book, and one that will not easily leave your mind...nor should it. If you watched the excellent multi-part National Geographic Channel documentary on 9/11, you will get a great deal out of this book.\\n\\nAs a radio broadcaster who was on the air the moment the second plane hit, and with a newly-adopted 2 year old daughter, 9/11 resonates with me, as I'm sure it does everyone. Read this book and learn more about the worst day in the history of America.\")]"
      ]
     },
     "execution_count": 16,
     "metadata": {},
     "output_type": "execute_result"
    }
   ],
   "source": [
    "training_df.head(5)"
   ]
  },
  {
   "cell_type": "code",
   "execution_count": 17,
   "metadata": {},
   "outputs": [
    {
     "data": {
      "text/plain": [
       "[Row(book_id='62678426', book_title='The Woman in the Window: A Novel', review_id='RZFSIAUSHZH43', review_score=5, review_text=\"Someone recommended this book but wouldn't say much about it. Lots of twists and turns, trying to figure out what was reality and what wasn't.Don't start this if you have to be somewhere else. It's hard to put down until you know how it ends.\", review_title='Twists and turns', review_user='LindaG', timestamp=1556699124, review_concat=\"Twists and turns Someone recommended this book but wouldn't say much about it. Lots of twists and turns, trying to figure out what was reality and what wasn't.Don't start this if you have to be somewhere else. It's hard to put down until you know how it ends.\"),\n",
       " Row(book_id='1455536156', book_title='Scraps, Wilt & Weeds: Turning Wasted Food into Plenty', review_id='RSSSXHBF4BJJY', review_score=4, review_text='A well written and inspiring cook book! As a chef my self i was impressed with some of the applications for food waste!', review_title='Great book !', review_user='Tracy Rowan', timestamp=1556699114, review_concat='Great book ! A well written and inspiring cook book! As a chef my self i was impressed with some of the applications for food waste!'),\n",
       " Row(book_id='198211598X', book_title='Pet Sematary: A Novel', review_id='R992H57BFUM2K', review_score=5, review_text=\"This is the tenth Stephen King book I've read and I'm glad I did. I happened to watch the movie before reading the book and knowing the end before reading it didn't ruin it for me at all. King's ability to capture and keep your attention from the beginning to the end of an entire book is unrivaled. He does it again with this one.In Pet Sematary there isn't a moment of downtime. There is always some supernatural or eerie element at work for the reader to experience. The main characters are well developed and are very easy to sympathize with, so much so that despite knowing the end, I was rooting for Louis to turn his car around and change his mind nearing the end. No spoiler alerts necessary, fear not.I definitely recommend Pet Sematary. Stephen King fans won't be disappointed with this short but rich read. For those who are new to King and are just looking for a good 'ghost story' won't be let down either. This may even be the 'gateway drug' to reading even more of King's works. Enjoy!\", review_title='King doing what he does best...', review_user='kimlunde3', timestamp=1557064263, review_concat=\"King doing what he does best... This is the tenth Stephen King book I've read and I'm glad I did. I happened to watch the movie before reading the book and knowing the end before reading it didn't ruin it for me at all. King's ability to capture and keep your attention from the beginning to the end of an entire book is unrivaled. He does it again with this one.In Pet Sematary there isn't a moment of downtime. There is always some supernatural or eerie element at work for the reader to experience. The main characters are well developed and are very easy to sympathize with, so much so that despite knowing the end, I was rooting for Louis to turn his car around and change his mind nearing the end. No spoiler alerts necessary, fear not.I definitely recommend Pet Sematary. Stephen King fans won't be disappointed with this short but rich read. For those who are new to King and are just looking for a good 'ghost story' won't be let down either. This may even be the 'gateway drug' to reading even more of King's works. Enjoy!\"),\n",
       " Row(book_id='145491940X', book_title='American Seafood: Heritage, Culture & Cookery From Sea to Shining Sea', review_id='R170JWHEHSWXXW', review_score=5, review_text='Great Book', review_title='Great Book', review_user='Richard J.', timestamp=1557064250, review_concat='Great Book Great Book'),\n",
       " Row(book_id='0394585828', book_title='Horizon', review_id='R2AE3PPIND8W2O', review_score=5, review_text='Fantastic narratives that may well surpass the work of \"Arctic Dreams.\"  30 years in the making.  Written in the beautiful style Lopez\\'s readers have come to know and admire since the 1970s.  Read it, and then give copies to your loved ones and best friends.', review_title='Lifetime Achievement', review_user='Floki', timestamp=1554723369, review_concat='Lifetime Achievement Fantastic narratives that may well surpass the work of \"Arctic Dreams.\"  30 years in the making.  Written in the beautiful style Lopez\\'s readers have come to know and admire since the 1970s.  Read it, and then give copies to your loved ones and best friends.')]"
      ]
     },
     "execution_count": 17,
     "metadata": {},
     "output_type": "execute_result"
    }
   ],
   "source": [
    "s_df.head(5)"
   ]
  },
  {
   "cell_type": "code",
   "execution_count": 18,
   "metadata": {
    "scrolled": true
   },
   "outputs": [
    {
     "name": "stdout",
     "output_type": "stream",
     "text": [
      "data set split\n",
      "training set\n",
      "+------------+-----+\n",
      "|review_score|count|\n",
      "+------------+-----+\n",
      "|           5| 8141|\n",
      "|           4| 1015|\n",
      "|           3|  305|\n",
      "|           2|  146|\n",
      "|           1|  111|\n",
      "+------------+-----+\n",
      "\n",
      "test set\n",
      "+------------+-----+\n",
      "|review_score|count|\n",
      "+------------+-----+\n",
      "|           5| 1031|\n",
      "|           4|  138|\n",
      "|           3|   48|\n",
      "|           2|   24|\n",
      "|           1|   23|\n",
      "+------------+-----+\n",
      "\n"
     ]
    }
   ],
   "source": [
    "# Now make a new stratified split to make sure we have enough representative examples in the train set\n",
    "training2_df = s_df.sampleBy(\"review_score\", fractions={1: 0.8, 2: 0.8, 3: 0.8, 4: 0.8, 5: 0.8}, seed=42)\n",
    "test2_df = s_df.subtract(training2_df)\n",
    "print('data set split')\n",
    "[training2_df.count(), test2_df.count()]\n",
    "# training set\n",
    "print('training set')\n",
    "training2_df.groupBy(\"review_score\") \\\n",
    "    .count() \\\n",
    "    .orderBy(col(\"count\").desc()) \\\n",
    "    .show()\n",
    "# test set\n",
    "print('test set')\n",
    "test2_df.groupBy(\"review_score\") \\\n",
    "    .count() \\\n",
    "    .orderBy(col(\"count\").desc()) \\\n",
    "    .show()"
   ]
  },
  {
   "cell_type": "code",
   "execution_count": 19,
   "metadata": {},
   "outputs": [
    {
     "name": "stdout",
     "output_type": "stream",
     "text": [
      "+------------------+\n",
      "|      avg(correct)|\n",
      "+------------------+\n",
      "|0.8212025316455697|\n",
      "+------------------+\n",
      "\n"
     ]
    }
   ],
   "source": [
    "# new prevision\n",
    "lr = LogisticRegression().\\\n",
    "    setLabelCol('review_score').\\\n",
    "    setFeaturesCol('tfidf').\\\n",
    "    setRegParam(0.0).\\\n",
    "    setMaxIter(100).\\\n",
    "    setElasticNetParam(0.)\n",
    "# new pipeline to chain idf_pipeline with logistic regression\n",
    "lr_pipeline = Pipeline(stages=[tfidf_pipeline, lr]).fit(training2_df)\n",
    "# fitting + accuracy estimation\n",
    "predictions = lr_pipeline.transform(test2_df)\n",
    "predictions.select(fn.expr('float(prediction = review_score)').alias('correct')).\\\n",
    "    select(fn.avg('correct')).show()"
   ]
  },
  {
   "cell_type": "code",
   "execution_count": 20,
   "metadata": {},
   "outputs": [
    {
     "name": "stdout",
     "output_type": "stream",
     "text": [
      "Score = 1\n",
      "+-------------------+\n",
      "|       avg(correct)|\n",
      "+-------------------+\n",
      "|0.21739130434782608|\n",
      "+-------------------+\n",
      "\n",
      "Score = 2\n",
      "+-------------------+\n",
      "|       avg(correct)|\n",
      "+-------------------+\n",
      "|0.16666666666666666|\n",
      "+-------------------+\n",
      "\n",
      "Score = 3\n",
      "+------------+\n",
      "|avg(correct)|\n",
      "+------------+\n",
      "|       0.375|\n",
      "+------------+\n",
      "\n",
      "Score = 4\n",
      "+-----------------+\n",
      "|     avg(correct)|\n",
      "+-----------------+\n",
      "|0.463768115942029|\n",
      "+-----------------+\n",
      "\n",
      "Score = 5\n",
      "+-----------------+\n",
      "|     avg(correct)|\n",
      "+-----------------+\n",
      "|0.918525703200776|\n",
      "+-----------------+\n",
      "\n"
     ]
    }
   ],
   "source": [
    "# score above seems OK but now let's check the accuracy per class. we see it is not good for all but 5\n",
    "print('Score = 1')\n",
    "predictions.filter(predictions['review_score'] == 1).\\\n",
    "    select(fn.expr('float(prediction = review_score)').alias('correct')).\\\n",
    "    select(fn.avg('correct')).show()\n",
    "print('Score = 2')\n",
    "predictions.filter(predictions['review_score'] == 2).\\\n",
    "    select(fn.expr('float(prediction = review_score)').alias('correct')).\\\n",
    "    select(fn.avg('correct')).show()\n",
    "print('Score = 3')\n",
    "predictions.filter(predictions['review_score'] == 3).\\\n",
    "    select(fn.expr('float(prediction = review_score)').alias('correct')).\\\n",
    "    select(fn.avg('correct')).show()\n",
    "print('Score = 4')\n",
    "predictions.filter(predictions['review_score'] == 4).\\\n",
    "    select(fn.expr('float(prediction = review_score)').alias('correct')).\\\n",
    "    select(fn.avg('correct')).show()\n",
    "print('Score = 5')\n",
    "predictions.filter(predictions['review_score'] == 5).\\\n",
    "    select(fn.expr('float(prediction = review_score)').alias('correct')).\\\n",
    "    select(fn.avg('correct')).show()"
   ]
  },
  {
   "cell_type": "code",
   "execution_count": null,
   "metadata": {},
   "outputs": [],
   "source": []
  }
 ],
 "metadata": {
  "kernelspec": {
   "display_name": "Python 3",
   "language": "python",
   "name": "python3"
  },
  "language_info": {
   "codemirror_mode": {
    "name": "ipython",
    "version": 3
   },
   "file_extension": ".py",
   "mimetype": "text/x-python",
   "name": "python",
   "nbconvert_exporter": "python",
   "pygments_lexer": "ipython3",
   "version": "3.6.8"
  }
 },
 "nbformat": 4,
 "nbformat_minor": 2
}
